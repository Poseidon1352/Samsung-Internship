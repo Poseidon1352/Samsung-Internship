{
 "cells": [
  {
   "cell_type": "code",
   "execution_count": 1,
   "metadata": {
    "collapsed": false
   },
   "outputs": [],
   "source": [
    "import tensorflow as tf\n",
    "import numpy as np\n",
    "import scipy.io.wavfile\n",
    "import os\n",
    "tf.reset_default_graph()\n",
    "sess = tf.InteractiveSession()"
   ]
  },
  {
   "cell_type": "code",
   "execution_count": 2,
   "metadata": {
    "collapsed": false
   },
   "outputs": [],
   "source": [
    "# data preprocessing\n",
    "seq_length = 800\n",
    "merge_factor = 4#temporal resolution = merge_factor/16000 #discrimination_window = merge_factor*seq_length/16000\n",
    "n_train = 200; n_test = 200;\n",
    "num_channels = 2\n",
    "input_size = num_channels*merge_factor #n_channels*merge_factor\n",
    "num_classes = 5 #n_directions\n",
    "offset = 64\n",
    "train_x = []; train_t = []\n",
    "test_x = []; test_t = []\n",
    "for i in range(num_classes):\n",
    "    angle = 0+(45*i)\n",
    "    temp_data = scipy.io.wavfile.read('tao3/'+'d'+str(angle)+'.wav')[1][:]\n",
    "    for j in range(n_train+n_test):\n",
    "        if j%2 != 1:\n",
    "            train_x.append(temp_data[offset+(j*seq_length*merge_factor):offset+((j+1)*seq_length*merge_factor)])\n",
    "            train_t.append(i)\n",
    "        else:\n",
    "            test_x.append(temp_data[offset+(j*seq_length*merge_factor):offset+((j+1)*seq_length*merge_factor)])\n",
    "            test_t.append(i)\n",
    "\n",
    "train_x = np.array(train_x); train_t = np.array(train_t)\n",
    "train_x = train_x.reshape(n_train*num_classes,seq_length,input_size)\n",
    "mean = np.mean(train_x); std = np.std(train_x)\n",
    "train_x = (train_x - mean + 0.0)/std\n",
    "test_x = np.array(test_x); test_t = np.array(test_t)\n",
    "test_x = test_x.reshape(n_test*num_classes,seq_length,input_size)\n",
    "test_x = (test_x - mean + 0.0)/std"
   ]
  },
  {
   "cell_type": "code",
   "execution_count": 3,
   "metadata": {
    "collapsed": false
   },
   "outputs": [],
   "source": [
    "# hyperparameters\n",
    "x = tf.placeholder(tf.float32, [None,seq_length, input_size])\n",
    "labels = tf.placeholder(tf.int32, [None])\n",
    "i_size = 40\n",
    "h_size = 40\n",
    "g_size = 40\n",
    "learning_rate = tf.placeholder(tf.float32,[])"
   ]
  },
  {
   "cell_type": "code",
   "execution_count": 4,
   "metadata": {
    "collapsed": false
   },
   "outputs": [],
   "source": [
    "sdev = 0.1   \n",
    "params = {\n",
    "    'Wxi': tf.Variable(tf.random_normal([input_size, i_size],stddev=sdev)),\n",
    "    'Wih': tf.Variable(tf.random_normal([i_size,h_size],stddev=sdev)),\n",
    "    'Whg': tf.Variable(tf.random_normal([h_size, g_size],stddev = sdev)),\n",
    "    'Wgg': tf.Variable(tf.random_normal([g_size, g_size],stddev = sdev)),\n",
    "    'Wgy': tf.Variable(tf.random_normal([g_size,num_classes],stddev = sdev)),\n",
    "    'bi': tf.Variable(tf.random_normal([i_size],stddev=sdev)),\n",
    "    'bh': tf.Variable(tf.random_normal([h_size],stddev=sdev)),\n",
    "    'bg': tf.Variable(2.0*tf.ones([g_size])),\n",
    "    'by': tf.Variable(tf.zeros([num_classes]))\n",
    "}"
   ]
  },
  {
   "cell_type": "code",
   "execution_count": 5,
   "metadata": {
    "collapsed": false
   },
   "outputs": [],
   "source": [
    "# architecture\n",
    "def RNN(x,params):\n",
    "    batch_size = tf.shape(x)[0]\n",
    "    g = tf.zeros([batch_size,g_size])\n",
    "    for t in range(seq_length):\n",
    "        i = tf.tanh(tf.add(tf.matmul(x[:,t,:],params['Wxi']),params['bi']))\n",
    "        mu,sigma = tf.nn.moments(i,[0]); i = tf.nn.batch_normalization(i, mu, sigma,None,None,variance_epsilon=1e-8)\n",
    "        h = tf.tanh(tf.add(tf.matmul(i,params['Wih']),params['bh']))\n",
    "        mu,sigma = tf.nn.moments(h,[0]); h = tf.nn.batch_normalization(h, mu, sigma,None,None,variance_epsilon=1e-8)\n",
    "        g = tf.tanh(tf.add(tf.add(tf.matmul(g,params['Wgg']),tf.matmul(h,params['Whg'])),params['bg']))\n",
    "        mu,sigma = tf.nn.moments(g,[0]); g = tf.nn.batch_normalization(g, mu, sigma,None,None,variance_epsilon=1e-8)\n",
    "    y = tf.add(tf.matmul(g,params['Wgy']),params['by'])\n",
    "    return y"
   ]
  },
  {
   "cell_type": "code",
   "execution_count": 6,
   "metadata": {
    "collapsed": false
   },
   "outputs": [],
   "source": [
    "# training strategy\n",
    "y = RNN(x,params)"
   ]
  },
  {
   "cell_type": "code",
   "execution_count": 7,
   "metadata": {
    "collapsed": false
   },
   "outputs": [],
   "source": [
    "cost = tf.reduce_mean(tf.nn.sparse_softmax_cross_entropy_with_logits(y,labels))\n",
    "optimizer = tf.train.GradientDescentOptimizer(learning_rate).minimize(cost)\n",
    "# grads_and_vars = optimizer.compute_gradients(cost)\n",
    "# capped_grads_and_vars = [(tf.clip_by_value(gv[0],-5.,5.), gv[1]) for gv in grads_and_vars]\n",
    "# capped_optimizer = optimizer.apply_gradients(capped_grads_and_vars)\n",
    "# saver = tf.train.Saver()\n",
    "sess.run(tf.initialize_all_variables())"
   ]
  },
  {
   "cell_type": "code",
   "execution_count": null,
   "metadata": {
    "collapsed": false
   },
   "outputs": [],
   "source": [
    "n_iter = 0\n",
    "train_x1 = train_x[:n_train/2]; train_t1 = train_t[:n_train/2]\n",
    "train_x2 = train_x[n_train/2:]; train_t2 = train_t[n_train/2:]\n",
    "while True:\n",
    "    _,cost1 = sess.run([optimizer,cost],feed_dict={x:train_x1,labels:train_t1,learning_rate:0.05})\n",
    "    _,cost2 = sess.run([optimizer,cost],feed_dict={x:train_x2,labels:train_t2,learning_rate:0.05})\n",
    "    print('iter'+str(n_iter)+' cost:'+str((cost1+cost2)/2.))\n",
    "    if n_iter % 20 == 0:\n",
    "        y_train = sess.run(y,feed_dict={x:train_x})\n",
    "        print 'train pf = ' + str((sum(np.argmax(y_train,axis=1) == train_t) + 0.)/(n_train*num_classes))\n",
    "        y_test = sess.run(y,feed_dict={x:test_x})\n",
    "        print 'test pf = ' + str((sum(np.argmax(y_test,axis=1) == test_t) + 0.)/(n_test*num_classes))+'\\n'\n",
    "#         mypath = 'vars/iter'+str(n_iter)\n",
    "#         if not os.path.isdir(mypath):\n",
    "#            os.makedirs(mypath)\n",
    "#         myfile = mypath+'/'+str(n_iter)\n",
    "#         saver.save(sess,myfile,write_meta_graph=False)\n",
    "    n_iter += 1"
   ]
  },
  {
   "cell_type": "code",
   "execution_count": null,
   "metadata": {
    "collapsed": false
   },
   "outputs": [],
   "source": [
    "sess.close()"
   ]
  },
  {
   "cell_type": "code",
   "execution_count": 17,
   "metadata": {
    "collapsed": false
   },
   "outputs": [
    {
     "data": {
      "text/plain": [
       "1000"
      ]
     },
     "execution_count": 17,
     "metadata": {},
     "output_type": "execute_result"
    }
   ],
   "source": [
    "len(train_x)"
   ]
  },
  {
   "cell_type": "code",
   "execution_count": null,
   "metadata": {
    "collapsed": false
   },
   "outputs": [],
   "source": [
    "# new test data\n",
    "seq_length = 800\n",
    "merge_factor = 4#temporal resolution = merge_factor/16000 #discrimination_window = merge_factor*seq_length/16000\n",
    "n_test = 360;\n",
    "num_channels = 2\n",
    "input_size = num_channels*merge_factor #n_channels*merge_factor\n",
    "num_classes = 5 #n_directions\n",
    "offset = 64\n",
    "test_x = []; test_t = []\n",
    "for i in range(num_classes):\n",
    "    angle = 0+(45*i)\n",
    "    temp_data = scipy.io.wavfile.read('speech2/'+'d'+str(angle)+'.wav')[1]\n",
    "    #temp_data = scipy.io.wavfile.read('test.wav')[1]\n",
    "    for j in range(n_test):\n",
    "            test_x.append(temp_data[offset+(j*seq_length*merge_factor):offset+((j+1)*seq_length*merge_factor)])\n",
    "            test_t.append(i)\n",
    "\n",
    "test_x = np.array(test_x); test_t = np.array(test_t)\n",
    "test_x = test_x.reshape(n_test*num_classes,seq_length,input_size)\n",
    "y_test = sess.run(y,feed_dict={x:test_x})\n",
    "a = np.argmax(y_test,axis=1)\n",
    "np.set_printoptions(threshold=np.inf)\n",
    "print a\n",
    "print 'test pf = ' + str((sum(a == test_t) + 0.0)/(n_test*num_classes))+'\\n'"
   ]
  },
  {
   "cell_type": "code",
   "execution_count": null,
   "metadata": {
    "collapsed": false
   },
   "outputs": [],
   "source": [
    "var = params['Wxi'].eval()"
   ]
  },
  {
   "cell_type": "code",
   "execution_count": null,
   "metadata": {
    "collapsed": false
   },
   "outputs": [],
   "source": [
    "import matplotlib.pyplot as plt\n",
    "plt.imshow(var,cmap='Greys')\n",
    "plt.colorbar()\n",
    "plt.show()"
   ]
  },
  {
   "cell_type": "code",
   "execution_count": null,
   "metadata": {
    "collapsed": true
   },
   "outputs": [],
   "source": []
  }
 ],
 "metadata": {
  "kernelspec": {
   "display_name": "Python 2",
   "language": "python",
   "name": "python2"
  },
  "language_info": {
   "codemirror_mode": {
    "name": "ipython",
    "version": 2
   },
   "file_extension": ".py",
   "mimetype": "text/x-python",
   "name": "python",
   "nbconvert_exporter": "python",
   "pygments_lexer": "ipython2",
   "version": "2.7.6"
  }
 },
 "nbformat": 4,
 "nbformat_minor": 0
}
