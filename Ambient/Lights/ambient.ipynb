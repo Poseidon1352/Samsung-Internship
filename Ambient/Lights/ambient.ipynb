{
 "cells": [
  {
   "cell_type": "code",
   "execution_count": 1,
   "metadata": {
    "collapsed": false
   },
   "outputs": [],
   "source": [
    "import numpy as np\n",
    "import tensorflow as tf\n",
    "tf.reset_default_graph()\n",
    "sess = tf.InteractiveSession()"
   ]
  },
  {
   "cell_type": "code",
   "execution_count": 2,
   "metadata": {
    "collapsed": true
   },
   "outputs": [],
   "source": [
    "# Input Format\n",
    "n_fact = 2\n",
    "seq_length = 5"
   ]
  },
  {
   "cell_type": "code",
   "execution_count": 3,
   "metadata": {
    "collapsed": false
   },
   "outputs": [],
   "source": [
    "# Input Preprocessing\n",
    "def cast(string):\n",
    "    if string == '':\n",
    "        return 0\n",
    "    else:\n",
    "        return float(string)\n",
    "\n",
    "X = open('lights.txt', 'r').read().splitlines()\n",
    "X = [x.split(',') for x in X]\n",
    "X = [[cast(a) for a in x] for x in X]\n",
    "factors = np.array([x[:n_fact] for x in X])\n",
    "lights = np.array([x[n_fact:] for x in X])"
   ]
  },
  {
   "cell_type": "code",
   "execution_count": 4,
   "metadata": {
    "collapsed": true
   },
   "outputs": [],
   "source": [
    "# Network Variables\n",
    "hidden_size = 10\n",
    "l = tf.placeholder(tf.float32, [None, seq_length])\n",
    "f = tf.placeholder(tf.float32, [None, n_fact])\n",
    "learning_rate = tf.placeholder(tf.float32,[])\n",
    "params = {\n",
    "    'Wxh': tf.Variable(tf.random_normal([1, hidden_size],stddev=0.01)),\n",
    "    'Wfh': tf.Variable(tf.random_normal([n_fact, hidden_size],stddev=0.01)),\n",
    "    'Whh': tf.Variable(tf.random_normal([hidden_size, hidden_size],stddev = 0.01)),\n",
    "    'Why': tf.Variable(tf.random_normal([hidden_size,1],stddev = 0.01)),\n",
    "    'bh': tf.Variable(tf.zeros([hidden_size])),\n",
    "    'by': tf.Variable(tf.zeros([1]))\n",
    "}"
   ]
  },
  {
   "cell_type": "code",
   "execution_count": 5,
   "metadata": {
    "collapsed": true
   },
   "outputs": [],
   "source": [
    "# RNN architecture\n",
    "def RNN(x_t,f,params):\n",
    "    batch_size = tf.shape(x_t)[0]\n",
    "    h = tf.zeros([batch_size,hidden_size])\n",
    "    y = x_t\n",
    "    for t in range(1,seq_length):\n",
    "        h = tf.tanh(tf.add(tf.add(tf.add(tf.matmul(x_t,params['Wxh']),tf.matmul(f,params['Wfh'])),tf.matmul(h,params['Whh'])),params['bh']))\n",
    "        x_t = tf.add(tf.matmul(h,params['Why']),params['by'])\n",
    "        y = tf.concat(1,[y,x_t])\n",
    "    return y"
   ]
  },
  {
   "cell_type": "code",
   "execution_count": 6,
   "metadata": {
    "collapsed": false
   },
   "outputs": [],
   "source": [
    "# Optimization Technique\n",
    "y = RNN(l[:,0:1],f,params)\n",
    "loss = tf.reduce_sum(tf.squared_difference(y,l))\n",
    "optimizer = tf.train.GradientDescentOptimizer(learning_rate)\n",
    "grads_and_vars = optimizer.compute_gradients(loss)\n",
    "capped_grads_and_vars = [(tf.clip_by_value(gv[0],-1.,1.), gv[1]) for gv in grads_and_vars]\n",
    "capped_optimizer = optimizer.apply_gradients(capped_grads_and_vars)\n",
    "sess.run(tf.initialize_all_variables())"
   ]
  },
  {
   "cell_type": "code",
   "execution_count": 7,
   "metadata": {
    "collapsed": false,
    "scrolled": true
   },
   "outputs": [
    {
     "name": "stdout",
     "output_type": "stream",
     "text": [
      "[[5.0, 0.0, -0.0, 0.0, 0.0], [5.0, 0.0, 0.0, 0.0, 0.0], [5.0, 0.0, -0.0, -0.0, -0.0], [5.0, 0.0, 0.0, 0.0, 0.0]]\n",
      "iter0 loss:87.9799\n",
      "[[5.0, 1.0, 0.0, 0.0, 0.0], [5.0, 1.0, 0.0, 0.0, 0.0], [5.0, 1.0, 0.0, 0.0, 0.0], [5.0, 1.0, 0.0, 0.0, 0.0]]\n",
      "iter100 loss:68.5406\n",
      "[[5.0, 2.0, 1.0, 1.0, 1.0], [5.0, 2.0, 1.0, 1.0, 1.0], [5.0, 2.0, 1.0, 1.0, 1.0], [5.0, 2.0, 1.0, 1.0, 1.0]]\n",
      "iter200 loss:49.1722\n",
      "[[5.0, 3.0, 2.0, 1.0, 1.0], [5.0, 3.0, 1.0, 1.0, 1.0], [5.0, 3.0, 1.0, 1.0, 0.0], [5.0, 3.0, 1.0, 0.0, 0.0]]\n",
      "iter300 loss:40.5794\n",
      "[[5.0, 3.0, 2.0, 1.0, 1.0], [5.0, 3.0, 2.0, 1.0, 1.0], [5.0, 3.0, 1.0, 0.0, -0.0], [5.0, 3.0, 1.0, -0.0, -0.0]]\n",
      "iter400 loss:36.539\n",
      "[[5.0, 3.0, 1.0, 2.0, 1.0], [5.0, 3.0, 1.0, 2.0, 1.0], [5.0, 3.0, 0.0, 1.0, -0.0], [5.0, 2.0, -0.0, 0.0, -0.0]]\n",
      "iter500 loss:28.1409\n",
      "[[5.0, 4.0, 1.0, 4.0, 0.0], [5.0, 3.0, 1.0, 3.0, 0.0], [5.0, 3.0, 0.0, 1.0, -1.0], [5.0, 2.0, 0.0, 0.0, -1.0]]\n",
      "iter600 loss:20.9809\n",
      "[[5.0, 4.0, 1.0, 4.0, 0.0], [5.0, 3.0, 1.0, 3.0, 0.0], [5.0, 3.0, 0.0, 1.0, -1.0], [5.0, 2.0, 0.0, -0.0, -0.0]]\n",
      "iter700 loss:19.1143\n",
      "[[5.0, 4.0, 1.0, 4.0, 0.0], [5.0, 3.0, 1.0, 3.0, 0.0], [5.0, 3.0, 0.0, 1.0, -1.0], [5.0, 2.0, 0.0, -0.0, 0.0]]\n",
      "iter800 loss:17.7061\n",
      "[[5.0, 4.0, 1.0, 4.0, 0.0], [5.0, 3.0, 1.0, 3.0, 0.0], [5.0, 3.0, 0.0, 1.0, -1.0], [5.0, 2.0, 0.0, -0.0, 0.0]]\n",
      "iter900 loss:15.8774\n",
      "[[5.0, 4.0, 1.0, 4.0, 0.0], [5.0, 3.0, 1.0, 3.0, 0.0], [5.0, 3.0, 0.0, 1.0, -1.0], [5.0, 2.0, -0.0, -0.0, 0.0]]\n",
      "iter1000 loss:13.4931\n",
      "[[5.0, 5.0, 1.0, 4.0, 0.0], [5.0, 3.0, 1.0, 4.0, -0.0], [5.0, 4.0, 0.0, 0.0, -0.0], [5.0, 1.0, -0.0, -0.0, 0.0]]\n",
      "iter1100 loss:11.0735\n",
      "[[5.0, 5.0, 1.0, 4.0, 0.0], [5.0, 2.0, 1.0, 4.0, -0.0], [5.0, 4.0, 0.0, 0.0, -0.0], [5.0, 1.0, 0.0, -0.0, 0.0]]\n",
      "iter1200 loss:9.42123\n",
      "[[5.0, 5.0, 1.0, 4.0, 0.0], [5.0, 2.0, 1.0, 4.0, -0.0], [5.0, 4.0, 0.0, 0.0, -0.0], [5.0, 1.0, -0.0, -0.0, 0.0]]\n",
      "iter1300 loss:8.4585\n",
      "[[5.0, 4.0, 1.0, 4.0, 0.0], [5.0, 2.0, 1.0, 4.0, -0.0], [5.0, 4.0, 0.0, 0.0, -0.0], [5.0, 1.0, -0.0, -0.0, 0.0]]\n",
      "iter1400 loss:7.60938\n",
      "[[5.0, 4.0, 1.0, 4.0, 0.0], [5.0, 2.0, 1.0, 4.0, -0.0], [5.0, 4.0, 0.0, 0.0, -0.0], [5.0, 1.0, 0.0, -0.0, 0.0]]\n",
      "iter1500 loss:6.78843\n",
      "[[5.0, 4.0, 1.0, 4.0, 0.0], [5.0, 2.0, 1.0, 4.0, 0.0], [5.0, 5.0, -0.0, 0.0, -0.0], [5.0, 1.0, 0.0, -0.0, 0.0]]\n",
      "iter1600 loss:6.00904\n",
      "[[5.0, 4.0, 1.0, 4.0, 0.0], [5.0, 2.0, 1.0, 4.0, 0.0], [5.0, 5.0, -0.0, 0.0, -0.0], [5.0, 1.0, 0.0, -0.0, 0.0]]\n",
      "iter1700 loss:5.25409\n",
      "[[5.0, 4.0, 1.0, 4.0, 0.0], [5.0, 2.0, 1.0, 4.0, 0.0], [5.0, 5.0, -0.0, 0.0, 0.0], [5.0, 1.0, 0.0, -0.0, 0.0]]\n",
      "iter1800 loss:4.50519\n",
      "[[5.0, 4.0, 1.0, 4.0, 0.0], [5.0, 2.0, 1.0, 4.0, 0.0], [5.0, 5.0, -0.0, -0.0, 0.0], [5.0, 1.0, 0.0, -0.0, 0.0]]\n",
      "iter1900 loss:3.75635\n",
      "[[5.0, 4.0, 1.0, 4.0, -0.0], [5.0, 2.0, 1.0, 4.0, 0.0], [5.0, 5.0, -0.0, -0.0, -0.0], [5.0, 1.0, 0.0, 0.0, 0.0]]\n",
      "iter2000 loss:3.0172\n",
      "[[5.0, 4.0, 1.0, 4.0, -0.0], [5.0, 2.0, 1.0, 4.0, 0.0], [5.0, 5.0, 0.0, -0.0, -0.0], [5.0, 1.0, 0.0, 0.0, 0.0]]\n",
      "iter2100 loss:2.32381\n",
      "[[5.0, 4.0, 1.0, 4.0, -0.0], [5.0, 2.0, 1.0, 4.0, 0.0], [5.0, 5.0, 0.0, -0.0, -0.0], [5.0, 0.0, 0.0, 0.0, 0.0]]\n",
      "iter2200 loss:1.71899\n",
      "[[5.0, 4.0, 1.0, 4.0, -0.0], [5.0, 2.0, 1.0, 4.0, 0.0], [5.0, 6.0, -0.0, -0.0, -0.0], [5.0, 0.0, 0.0, 0.0, 0.0]]\n",
      "iter2300 loss:1.23579\n",
      "[[5.0, 4.0, 1.0, 4.0, -0.0], [5.0, 2.0, 1.0, 4.0, 0.0], [5.0, 6.0, -0.0, -0.0, -0.0], [5.0, 0.0, 0.0, 0.0, 0.0]]\n",
      "iter2400 loss:0.875285\n",
      "[[5.0, 4.0, 1.0, 4.0, -0.0], [5.0, 3.0, 1.0, 4.0, 0.0], [5.0, 6.0, -0.0, -0.0, -0.0], [5.0, 0.0, 0.0, 0.0, 0.0]]\n",
      "iter2500 loss:0.612423\n",
      "[[5.0, 3.0, 1.0, 4.0, -0.0], [5.0, 3.0, 1.0, 4.0, 0.0], [5.0, 6.0, 0.0, 0.0, -0.0], [5.0, 0.0, 0.0, 0.0, 0.0]]\n",
      "iter2600 loss:0.424831\n",
      "[[5.0, 3.0, 1.0, 4.0, -0.0], [5.0, 3.0, 1.0, 4.0, 0.0], [5.0, 6.0, 0.0, 0.0, -0.0], [5.0, 0.0, 0.0, 0.0, 0.0]]\n",
      "iter2700 loss:0.291844\n",
      "[[5.0, 3.0, 1.0, 4.0, -0.0], [5.0, 3.0, 1.0, 4.0, 0.0], [5.0, 6.0, 0.0, 0.0, -0.0], [5.0, 0.0, 0.0, 0.0, 0.0]]\n",
      "iter2800 loss:0.199186\n",
      "[[5.0, 3.0, 1.0, 4.0, 0.0], [5.0, 3.0, 1.0, 4.0, 0.0], [5.0, 6.0, 0.0, 0.0, -0.0], [5.0, 0.0, 0.0, 0.0, 0.0]]\n",
      "iter2900 loss:0.135511\n",
      "[[5.0, 3.0, 1.0, 4.0, 0.0], [5.0, 3.0, 1.0, 4.0, 0.0], [5.0, 6.0, 0.0, 0.0, -0.0], [5.0, 0.0, 0.0, 0.0, 0.0]]\n",
      "iter3000 loss:0.0919365\n",
      "[[5.0, 3.0, 1.0, 4.0, 0.0], [5.0, 3.0, 1.0, 4.0, 0.0], [5.0, 6.0, 0.0, 0.0, -0.0], [5.0, 0.0, 0.0, 0.0, -0.0]]\n",
      "iter3100 loss:0.0623752\n",
      "[[5.0, 3.0, 1.0, 4.0, 0.0], [5.0, 3.0, 1.0, 4.0, 0.0], [5.0, 6.0, 0.0, 0.0, -0.0], [5.0, 0.0, 0.0, -0.0, -0.0]]\n",
      "iter3200 loss:0.0425044\n",
      "[[5.0, 3.0, 1.0, 4.0, 0.0], [5.0, 3.0, 1.0, 4.0, 0.0], [5.0, 6.0, 0.0, 0.0, -0.0], [5.0, 0.0, 0.0, -0.0, -0.0]]\n",
      "iter3300 loss:0.0292031\n",
      "[[5.0, 3.0, 1.0, 4.0, 0.0], [5.0, 3.0, 1.0, 4.0, 0.0], [5.0, 6.0, 0.0, 0.0, -0.0], [5.0, 0.0, 0.0, -0.0, -0.0]]\n",
      "iter3400 loss:0.0203332\n",
      "[[5.0, 3.0, 1.0, 4.0, 0.0], [5.0, 3.0, 1.0, 4.0, 0.0], [5.0, 6.0, 0.0, 0.0, -0.0], [5.0, 0.0, 0.0, -0.0, -0.0]]\n",
      "iter3500 loss:0.0144385\n",
      "[[5.0, 3.0, 1.0, 4.0, 0.0], [5.0, 3.0, 1.0, 4.0, 0.0], [5.0, 6.0, 0.0, 0.0, -0.0], [5.0, 0.0, 0.0, -0.0, -0.0]]\n",
      "iter3600 loss:0.0105322\n",
      "[[5.0, 3.0, 1.0, 4.0, 0.0], [5.0, 3.0, 1.0, 4.0, 0.0], [5.0, 6.0, 0.0, 0.0, -0.0], [5.0, 0.0, 0.0, -0.0, -0.0]]\n",
      "iter3700 loss:0.00794915\n",
      "[[5.0, 3.0, 1.0, 4.0, 0.0], [5.0, 3.0, 1.0, 4.0, 0.0], [5.0, 6.0, 0.0, 0.0, -0.0], [5.0, 0.0, 0.0, -0.0, -0.0]]\n",
      "iter3800 loss:0.00624367\n",
      "[[5.0, 3.0, 1.0, 4.0, 0.0], [5.0, 3.0, 1.0, 4.0, 0.0], [5.0, 6.0, 0.0, 0.0, -0.0], [5.0, 0.0, 0.0, -0.0, -0.0]]\n",
      "iter3900 loss:0.00511849\n",
      "[[5.0, 3.0, 1.0, 4.0, 0.0], [5.0, 3.0, 1.0, 4.0, 0.0], [5.0, 6.0, 0.0, 0.0, -0.0], [5.0, 0.0, 0.0, -0.0, -0.0]]\n",
      "iter4000 loss:0.00437622\n",
      "[[5.0, 3.0, 1.0, 4.0, 0.0], [5.0, 3.0, 1.0, 4.0, 0.0], [5.0, 6.0, 0.0, 0.0, -0.0], [5.0, 0.0, 0.0, -0.0, -0.0]]\n",
      "iter4100 loss:0.00388611\n",
      "[[5.0, 3.0, 1.0, 4.0, 0.0], [5.0, 3.0, 1.0, 4.0, 0.0], [5.0, 6.0, 0.0, 0.0, 0.0], [5.0, 0.0, 0.0, -0.0, -0.0]]\n",
      "iter4200 loss:0.00356122\n",
      "[[5.0, 3.0, 1.0, 4.0, 0.0], [5.0, 3.0, 1.0, 4.0, 0.0], [5.0, 6.0, 0.0, 0.0, 0.0], [5.0, 0.0, 0.0, -0.0, -0.0]]\n",
      "iter4300 loss:0.00334497\n",
      "[[5.0, 3.0, 1.0, 4.0, 0.0], [5.0, 3.0, 1.0, 4.0, 0.0], [5.0, 6.0, 0.0, 0.0, 0.0], [5.0, 0.0, 0.0, -0.0, -0.0]]\n",
      "iter4400 loss:0.00319942\n",
      "[[5.0, 3.0, 1.0, 4.0, 0.0], [5.0, 3.0, 1.0, 4.0, 0.0], [5.0, 6.0, 0.0, 0.0, 0.0], [5.0, 0.0, 0.0, -0.0, -0.0]]\n",
      "iter4500 loss:0.00310036\n",
      "[[5.0, 3.0, 1.0, 4.0, 0.0], [5.0, 3.0, 1.0, 4.0, 0.0], [5.0, 6.0, 0.0, 0.0, 0.0], [5.0, 0.0, 0.0, -0.0, -0.0]]\n",
      "iter4600 loss:0.00303131\n",
      "[[5.0, 3.0, 1.0, 4.0, 0.0], [5.0, 3.0, 1.0, 4.0, 0.0], [5.0, 6.0, 0.0, 0.0, 0.0], [5.0, 0.0, 0.0, -0.0, -0.0]]\n",
      "iter4700 loss:0.00298172\n",
      "[[5.0, 3.0, 1.0, 4.0, 0.0], [5.0, 3.0, 1.0, 4.0, 0.0], [5.0, 6.0, 0.0, 0.0, 0.0], [5.0, 0.0, 0.0, -0.0, -0.0]]\n",
      "iter4800 loss:0.00294497\n",
      "[[5.0, 3.0, 1.0, 4.0, 0.0], [5.0, 3.0, 1.0, 4.0, 0.0], [5.0, 6.0, 0.0, 0.0, 0.0], [5.0, 0.0, 0.0, -0.0, -0.0]]\n",
      "iter4900 loss:0.00291651\n",
      "[[5.0, 3.0, 1.0, 4.0, 0.0], [5.0, 3.0, 1.0, 4.0, 0.0], [5.0, 6.0, 0.0, 0.0, 0.0], [5.0, 0.0, 0.0, -0.0, -0.0]]\n",
      "iter5000 loss:0.00289342\n",
      "[[5.0, 3.0, 1.0, 4.0, 0.0], [5.0, 3.0, 1.0, 4.0, 0.0], [5.0, 6.0, 0.0, 0.0, 0.0], [5.0, 0.0, 0.0, -0.0, -0.0]]\n",
      "iter5100 loss:0.00287357\n",
      "[[5.0, 3.0, 1.0, 4.0, 0.0], [5.0, 3.0, 1.0, 4.0, 0.0], [5.0, 6.0, 0.0, 0.0, 0.0], [5.0, 0.0, 0.0, -0.0, -0.0]]\n",
      "iter5200 loss:0.00285594\n"
     ]
    },
    {
     "ename": "KeyboardInterrupt",
     "evalue": "",
     "output_type": "error",
     "traceback": [
      "\u001b[1;31m---------------------------------------------------------------------------\u001b[0m",
      "\u001b[1;31mKeyboardInterrupt\u001b[0m                         Traceback (most recent call last)",
      "\u001b[1;32m<ipython-input-7-77a78db9c875>\u001b[0m in \u001b[0;36m<module>\u001b[1;34m()\u001b[0m\n\u001b[0;32m      2\u001b[0m \u001b[0mn_iter\u001b[0m \u001b[1;33m=\u001b[0m \u001b[1;36m0\u001b[0m\u001b[1;33m\u001b[0m\u001b[0m\n\u001b[0;32m      3\u001b[0m \u001b[1;32mwhile\u001b[0m \u001b[0mn_iter\u001b[0m \u001b[1;33m<\u001b[0m \u001b[1;36m10000\u001b[0m\u001b[1;33m:\u001b[0m\u001b[1;33m\u001b[0m\u001b[0m\n\u001b[1;32m----> 4\u001b[1;33m     \u001b[0m_\u001b[0m\u001b[1;33m,\u001b[0m\u001b[0mloss_\u001b[0m\u001b[1;33m,\u001b[0m\u001b[0my_\u001b[0m \u001b[1;33m=\u001b[0m \u001b[0msess\u001b[0m\u001b[1;33m.\u001b[0m\u001b[0mrun\u001b[0m\u001b[1;33m(\u001b[0m\u001b[1;33m[\u001b[0m\u001b[0mcapped_optimizer\u001b[0m\u001b[1;33m,\u001b[0m\u001b[0mloss\u001b[0m\u001b[1;33m,\u001b[0m\u001b[0my\u001b[0m\u001b[1;33m]\u001b[0m\u001b[1;33m,\u001b[0m\u001b[0mfeed_dict\u001b[0m\u001b[1;33m=\u001b[0m\u001b[1;33m{\u001b[0m\u001b[0ml\u001b[0m\u001b[1;33m:\u001b[0m\u001b[0mlights\u001b[0m\u001b[1;33m,\u001b[0m\u001b[0mf\u001b[0m\u001b[1;33m:\u001b[0m\u001b[0mfactors\u001b[0m\u001b[1;33m,\u001b[0m\u001b[0mlearning_rate\u001b[0m\u001b[1;33m:\u001b[0m\u001b[1;36m0.001\u001b[0m\u001b[1;33m}\u001b[0m\u001b[1;33m)\u001b[0m\u001b[1;33m\u001b[0m\u001b[0m\n\u001b[0m\u001b[0;32m      5\u001b[0m     \u001b[1;32mif\u001b[0m \u001b[0mn_iter\u001b[0m \u001b[1;33m%\u001b[0m \u001b[1;36m100\u001b[0m \u001b[1;33m==\u001b[0m \u001b[1;36m0\u001b[0m\u001b[1;33m:\u001b[0m\u001b[1;33m\u001b[0m\u001b[0m\n\u001b[0;32m      6\u001b[0m         \u001b[0my_proc\u001b[0m \u001b[1;33m=\u001b[0m \u001b[1;33m[\u001b[0m\u001b[1;33m[\u001b[0m\u001b[0mround\u001b[0m\u001b[1;33m(\u001b[0m\u001b[0ma\u001b[0m\u001b[1;33m)\u001b[0m \u001b[1;32mfor\u001b[0m \u001b[0ma\u001b[0m \u001b[1;32min\u001b[0m \u001b[0mb\u001b[0m\u001b[1;33m]\u001b[0m \u001b[1;32mfor\u001b[0m \u001b[0mb\u001b[0m \u001b[1;32min\u001b[0m \u001b[0my_\u001b[0m\u001b[1;33m]\u001b[0m\u001b[1;33m\u001b[0m\u001b[0m\n",
      "\u001b[1;32m/usr/local/lib/python2.7/dist-packages/tensorflow/python/client/session.pyc\u001b[0m in \u001b[0;36mrun\u001b[1;34m(self, fetches, feed_dict, options, run_metadata)\u001b[0m\n\u001b[0;32m    370\u001b[0m     \u001b[1;32mtry\u001b[0m\u001b[1;33m:\u001b[0m\u001b[1;33m\u001b[0m\u001b[0m\n\u001b[0;32m    371\u001b[0m       result = self._run(None, fetches, feed_dict, options_ptr,\n\u001b[1;32m--> 372\u001b[1;33m                          run_metadata_ptr)\n\u001b[0m\u001b[0;32m    373\u001b[0m       \u001b[1;32mif\u001b[0m \u001b[0mrun_metadata\u001b[0m\u001b[1;33m:\u001b[0m\u001b[1;33m\u001b[0m\u001b[0m\n\u001b[0;32m    374\u001b[0m         \u001b[0mproto_data\u001b[0m \u001b[1;33m=\u001b[0m \u001b[0mtf_session\u001b[0m\u001b[1;33m.\u001b[0m\u001b[0mTF_GetBuffer\u001b[0m\u001b[1;33m(\u001b[0m\u001b[0mrun_metadata_ptr\u001b[0m\u001b[1;33m)\u001b[0m\u001b[1;33m\u001b[0m\u001b[0m\n",
      "\u001b[1;32m/usr/local/lib/python2.7/dist-packages/tensorflow/python/client/session.pyc\u001b[0m in \u001b[0;36m_run\u001b[1;34m(self, handle, fetches, feed_dict, options, run_metadata)\u001b[0m\n\u001b[0;32m    634\u001b[0m     \u001b[1;32mtry\u001b[0m\u001b[1;33m:\u001b[0m\u001b[1;33m\u001b[0m\u001b[0m\n\u001b[0;32m    635\u001b[0m       results = self._do_run(handle, target_list, unique_fetches,\n\u001b[1;32m--> 636\u001b[1;33m                              feed_dict_string, options, run_metadata)\n\u001b[0m\u001b[0;32m    637\u001b[0m     \u001b[1;32mfinally\u001b[0m\u001b[1;33m:\u001b[0m\u001b[1;33m\u001b[0m\u001b[0m\n\u001b[0;32m    638\u001b[0m       \u001b[1;31m# The movers are no longer used. Delete them.\u001b[0m\u001b[1;33m\u001b[0m\u001b[1;33m\u001b[0m\u001b[0m\n",
      "\u001b[1;32m/usr/local/lib/python2.7/dist-packages/tensorflow/python/client/session.pyc\u001b[0m in \u001b[0;36m_do_run\u001b[1;34m(self, handle, target_list, fetch_list, feed_dict, options, run_metadata)\u001b[0m\n\u001b[0;32m    706\u001b[0m     \u001b[1;32mif\u001b[0m \u001b[0mhandle\u001b[0m \u001b[1;32mis\u001b[0m \u001b[0mNone\u001b[0m\u001b[1;33m:\u001b[0m\u001b[1;33m\u001b[0m\u001b[0m\n\u001b[0;32m    707\u001b[0m       return self._do_call(_run_fn, self._session, feed_dict, fetch_list,\n\u001b[1;32m--> 708\u001b[1;33m                            target_list, options, run_metadata)\n\u001b[0m\u001b[0;32m    709\u001b[0m     \u001b[1;32melse\u001b[0m\u001b[1;33m:\u001b[0m\u001b[1;33m\u001b[0m\u001b[0m\n\u001b[0;32m    710\u001b[0m       return self._do_call(_prun_fn, self._session, handle, feed_dict,\n",
      "\u001b[1;32m/usr/local/lib/python2.7/dist-packages/tensorflow/python/client/session.pyc\u001b[0m in \u001b[0;36m_do_call\u001b[1;34m(self, fn, *args)\u001b[0m\n\u001b[0;32m    713\u001b[0m   \u001b[1;32mdef\u001b[0m \u001b[0m_do_call\u001b[0m\u001b[1;33m(\u001b[0m\u001b[0mself\u001b[0m\u001b[1;33m,\u001b[0m \u001b[0mfn\u001b[0m\u001b[1;33m,\u001b[0m \u001b[1;33m*\u001b[0m\u001b[0margs\u001b[0m\u001b[1;33m)\u001b[0m\u001b[1;33m:\u001b[0m\u001b[1;33m\u001b[0m\u001b[0m\n\u001b[0;32m    714\u001b[0m     \u001b[1;32mtry\u001b[0m\u001b[1;33m:\u001b[0m\u001b[1;33m\u001b[0m\u001b[0m\n\u001b[1;32m--> 715\u001b[1;33m       \u001b[1;32mreturn\u001b[0m \u001b[0mfn\u001b[0m\u001b[1;33m(\u001b[0m\u001b[1;33m*\u001b[0m\u001b[0margs\u001b[0m\u001b[1;33m)\u001b[0m\u001b[1;33m\u001b[0m\u001b[0m\n\u001b[0m\u001b[0;32m    716\u001b[0m     \u001b[1;32mexcept\u001b[0m \u001b[0merrors\u001b[0m\u001b[1;33m.\u001b[0m\u001b[0mOpError\u001b[0m \u001b[1;32mas\u001b[0m \u001b[0me\u001b[0m\u001b[1;33m:\u001b[0m\u001b[1;33m\u001b[0m\u001b[0m\n\u001b[0;32m    717\u001b[0m       \u001b[0mmessage\u001b[0m \u001b[1;33m=\u001b[0m \u001b[0mcompat\u001b[0m\u001b[1;33m.\u001b[0m\u001b[0mas_text\u001b[0m\u001b[1;33m(\u001b[0m\u001b[0me\u001b[0m\u001b[1;33m.\u001b[0m\u001b[0mmessage\u001b[0m\u001b[1;33m)\u001b[0m\u001b[1;33m\u001b[0m\u001b[0m\n",
      "\u001b[1;32m/usr/local/lib/python2.7/dist-packages/tensorflow/python/client/session.pyc\u001b[0m in \u001b[0;36m_run_fn\u001b[1;34m(session, feed_dict, fetch_list, target_list, options, run_metadata)\u001b[0m\n\u001b[0;32m    695\u001b[0m         return tf_session.TF_Run(session, options,\n\u001b[0;32m    696\u001b[0m                                  \u001b[0mfeed_dict\u001b[0m\u001b[1;33m,\u001b[0m \u001b[0mfetch_list\u001b[0m\u001b[1;33m,\u001b[0m \u001b[0mtarget_list\u001b[0m\u001b[1;33m,\u001b[0m\u001b[1;33m\u001b[0m\u001b[0m\n\u001b[1;32m--> 697\u001b[1;33m                                  status, run_metadata)\n\u001b[0m\u001b[0;32m    698\u001b[0m \u001b[1;33m\u001b[0m\u001b[0m\n\u001b[0;32m    699\u001b[0m     \u001b[1;32mdef\u001b[0m \u001b[0m_prun_fn\u001b[0m\u001b[1;33m(\u001b[0m\u001b[0msession\u001b[0m\u001b[1;33m,\u001b[0m \u001b[0mhandle\u001b[0m\u001b[1;33m,\u001b[0m \u001b[0mfeed_dict\u001b[0m\u001b[1;33m,\u001b[0m \u001b[0mfetch_list\u001b[0m\u001b[1;33m)\u001b[0m\u001b[1;33m:\u001b[0m\u001b[1;33m\u001b[0m\u001b[0m\n",
      "\u001b[1;31mKeyboardInterrupt\u001b[0m: "
     ]
    }
   ],
   "source": [
    "# Training\n",
    "n_iter = 0\n",
    "while n_iter < 10000:\n",
    "    _,loss_,y_ = sess.run([capped_optimizer,loss,y],feed_dict={l:lights,f:factors,learning_rate:0.001})\n",
    "    if n_iter % 100 == 0:\n",
    "        y_proc = [[round(a) for a in b] for b in y_]\n",
    "        print y_proc\n",
    "        print('iter'+str(n_iter)+' loss:'+str(loss_))\n",
    "    n_iter += 1"
   ]
  },
  {
   "cell_type": "code",
   "execution_count": 117,
   "metadata": {
    "collapsed": true
   },
   "outputs": [],
   "source": [
    "# Testing\n",
    "def cast(string):\n",
    "    if string == '':\n",
    "        return 0\n",
    "    else:\n",
    "        return float(string)\n",
    "\n",
    "X = open('lights_test.txt', 'r').read().splitlines()\n",
    "X = [x.split(',') for x in X]\n",
    "X = [[cast(a) for a in x] for x in X]\n",
    "batch_size = len(X)\n",
    "factors_test = np.array([x[:n_fact] for x in X])\n",
    "lights_test = np.array([x[n_fact:] for x in X])"
   ]
  },
  {
   "cell_type": "code",
   "execution_count": 118,
   "metadata": {
    "collapsed": false
   },
   "outputs": [
    {
     "name": "stdout",
     "output_type": "stream",
     "text": [
      "[[  5.00000000e+00   1.04601383e-02   1.07107162e-02  -7.81846046e-03\n",
      "   -7.71862268e-03]\n",
      " [  5.00000000e+00   6.00600719e+00   1.95697546e-02   3.21156979e-02\n",
      "   -1.24495625e-02]\n",
      " [  5.00000000e+00   3.00422955e+00   1.01781833e+00   4.02139473e+00\n",
      "    1.47323012e-02]\n",
      " [  5.00000000e+00   3.00449300e+00   1.01458693e+00   4.01371527e+00\n",
      "    4.50116396e-03]]\n"
     ]
    }
   ],
   "source": [
    "y_ = sess.run(y,feed_dict={l:lights_test,f:factors_test})\n",
    "print y_"
   ]
  },
  {
   "cell_type": "code",
   "execution_count": 104,
   "metadata": {
    "collapsed": true
   },
   "outputs": [],
   "source": [
    "sess.close()"
   ]
  },
  {
   "cell_type": "code",
   "execution_count": null,
   "metadata": {
    "collapsed": true
   },
   "outputs": [],
   "source": []
  }
 ],
 "metadata": {
  "kernelspec": {
   "display_name": "Python 2",
   "language": "python",
   "name": "python2"
  },
  "language_info": {
   "codemirror_mode": {
    "name": "ipython",
    "version": 2
   },
   "file_extension": ".py",
   "mimetype": "text/x-python",
   "name": "python",
   "nbconvert_exporter": "python",
   "pygments_lexer": "ipython2",
   "version": "2.7.6"
  }
 },
 "nbformat": 4,
 "nbformat_minor": 0
}
