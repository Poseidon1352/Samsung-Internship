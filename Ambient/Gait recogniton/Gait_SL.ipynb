{
 "cells": [
  {
   "cell_type": "code",
   "execution_count": 1,
   "metadata": {
    "collapsed": false
   },
   "outputs": [],
   "source": [
    "import tensorflow as tf\n",
    "import numpy as np\n",
    "import wavio\n",
    "import os\n",
    "tf.reset_default_graph()\n",
    "sess = tf.InteractiveSession()"
   ]
  },
  {
   "cell_type": "code",
   "execution_count": 11,
   "metadata": {
    "collapsed": false
   },
   "outputs": [],
   "source": [
    "# data preprocessing\n",
    "seq_length = 2000\n",
    "merge_factor = 4#temporal resolution = merge_factor/16000 #discrimination_window = merge_factor*seq_length/16000\n",
    "n_train = 225; n_test = 225;\n",
    "num_channels = 2\n",
    "input_size = num_channels*merge_factor #n_channels*merge_factor\n",
    "num_classes = 2 #n_directions\n",
    "offset = 0\n",
    "train_x = []; train_t = []\n",
    "test_x = []; test_t = []\n",
    "for i in range(num_classes):\n",
    "    angle = 0+(1*i)\n",
    "    temp_data = wavio.read('at1/'+'d'+str(angle)+'.WAV').data\n",
    "    for j in range(n_train+n_test):\n",
    "        if j%2 != 1:\n",
    "            train_x.append(temp_data[offset+(j*seq_length*merge_factor):offset+((j+1)*seq_length*merge_factor)])\n",
    "            train_t.append(i)\n",
    "        else:\n",
    "            test_x.append(temp_data[offset+(j*seq_length*merge_factor):offset+((j+1)*seq_length*merge_factor)])\n",
    "            test_t.append(i)\n",
    "\n",
    "train_x = np.array(train_x); train_t = np.array(train_t)\n",
    "train_x = train_x.reshape(n_train*num_classes,seq_length,input_size)\n",
    "mean = np.mean(train_x); std = np.std(train_x)\n",
    "#train_x = (train_x - mean + 0.0)/std\n",
    "test_x = np.array(test_x); test_t = np.array(test_t)\n",
    "test_x = test_x.reshape(n_test*num_classes,seq_length,input_size)\n",
    "#test_x = (test_x - mean + 0.0)/std"
   ]
  },
  {
   "cell_type": "code",
   "execution_count": 12,
   "metadata": {
    "collapsed": false
   },
   "outputs": [],
   "source": [
    "x = tf.placeholder(tf.float32, [None,seq_length, input_size])\n",
    "labels = tf.placeholder(tf.int32, [None])"
   ]
  },
  {
   "cell_type": "code",
   "execution_count": 13,
   "metadata": {
    "collapsed": false
   },
   "outputs": [],
   "source": [
    "# hyperparameters\n",
    "context_size = 40\n",
    "learning_rate = tf.placeholder(tf.float32,[])"
   ]
  },
  {
   "cell_type": "code",
   "execution_count": 14,
   "metadata": {
    "collapsed": false
   },
   "outputs": [],
   "source": [
    "# parameters\n",
    "r_i = np.sqrt(6.0/(input_size + context_size))\n",
    "r_c = np.sqrt(6.0/(context_size + context_size))\n",
    "r_y = np.sqrt(6.0/(context_size + num_classes))\n",
    "params = {\n",
    "    'Wfx': tf.Variable(tf.random_uniform([input_size, context_size],-r_i,r_i)),\n",
    "    'Wfc': tf.Variable(tf.random_uniform([context_size, context_size],-r_c,r_c)),\n",
    "    'Wsx': tf.Variable(tf.random_uniform([input_size, context_size],-4*r_i,4*r_i)),\n",
    "    'Wsc': tf.Variable(tf.random_uniform([context_size, context_size],-4*r_c,4*r_c)),\n",
    "    'Wyc': tf.Variable(tf.random_normal([context_size,num_classes],stddev=r_y)),\n",
    "    'bf': tf.Variable(1.0*tf.ones([context_size])),\n",
    "    'bs': tf.Variable(tf.random_normal([context_size],stddev=0.01)),\n",
    "    'by': tf.Variable(tf.zeros([num_classes]))\n",
    "}"
   ]
  },
  {
   "cell_type": "code",
   "execution_count": 15,
   "metadata": {
    "collapsed": false
   },
   "outputs": [],
   "source": [
    "# parameters\n",
    "sdev=0.1\n",
    "params = {\n",
    "    'Wfx': tf.Variable(tf.random_normal([input_size, context_size],stddev=sdev)),\n",
    "    'Wfc': tf.Variable(tf.random_normal([context_size, context_size],stddev=sdev)),\n",
    "    'Wsx': tf.Variable(tf.random_normal([input_size, context_size],stddev=sdev)),\n",
    "    'Wsc': tf.Variable(tf.random_normal([context_size, context_size],stddev=sdev)),\n",
    "    'Wyc': tf.Variable(tf.random_normal([context_size,num_classes],stddev=sdev)),\n",
    "    'bf': tf.Variable(2*tf.ones([context_size])),\n",
    "    'bs': tf.Variable(tf.random_normal([context_size],stddev=sdev)),\n",
    "    'by': tf.Variable(tf.zeros([num_classes]))\n",
    "}"
   ]
  },
  {
   "cell_type": "code",
   "execution_count": 16,
   "metadata": {
    "collapsed": false
   },
   "outputs": [],
   "source": [
    "# architecture\n",
    "def LSTM(x,params):\n",
    "    batch_size = tf.shape(x)[0]\n",
    "    c = tf.zeros([batch_size,context_size])\n",
    "    for t in range(seq_length):\n",
    "        f = tf.sigmoid(tf.add(tf.add(tf.matmul(x[:,t,:],params['Wfx']),tf.matmul(c,params['Wfc'])),params['bf']))\n",
    "        s = tf.tanh(tf.add(tf.add(tf.matmul(x[:,t,:],params['Wsx']),tf.matmul(c,params['Wsc'])),params['bs']))\n",
    "        c = tf.add(tf.mul(f,c),tf.mul(1-f,s))\n",
    "    y = tf.add(tf.matmul(c,params['Wyc']),params['by'])\n",
    "    return y"
   ]
  },
  {
   "cell_type": "code",
   "execution_count": 17,
   "metadata": {
    "collapsed": false
   },
   "outputs": [],
   "source": [
    "# training strategy\n",
    "y = LSTM(x,params)\n",
    "cost = tf.reduce_mean(tf.nn.sparse_softmax_cross_entropy_with_logits(y,labels))\n",
    "optimizer = tf.train.GradientDescentOptimizer(learning_rate).minimize(cost)\n",
    "#optimizer = tf.train.AdamOptimizer(learning_rate).minimize(cost)"
   ]
  },
  {
   "cell_type": "code",
   "execution_count": 18,
   "metadata": {
    "collapsed": false
   },
   "outputs": [],
   "source": [
    "sess.run(tf.initialize_all_variables())"
   ]
  },
  {
   "cell_type": "code",
   "execution_count": 20,
   "metadata": {
    "collapsed": false
   },
   "outputs": [
    {
     "name": "stdout",
     "output_type": "stream",
     "text": [
      "iter0 cost:0.647022\n",
      "train error = 0.615555555556\n",
      "test error = 0.551111111111\n",
      "\n",
      "iter1 cost:0.647017\n",
      "iter2 cost:0.647012\n",
      "iter3 cost:0.647007\n",
      "iter4 cost:0.647002\n",
      "iter5 cost:0.646997\n",
      "iter6 cost:0.646991\n",
      "iter7 cost:0.646986\n",
      "iter8 cost:0.646981\n",
      "iter9 cost:0.646976\n",
      "iter10 cost:0.646971\n",
      "train error = 0.617777777778\n",
      "test error = 0.548888888889\n",
      "\n",
      "iter11 cost:0.646966\n",
      "iter12 cost:0.646961\n",
      "iter13 cost:0.646956\n",
      "iter14 cost:0.646951\n",
      "iter15 cost:0.646946\n",
      "iter16 cost:0.646941\n",
      "iter17 cost:0.646936\n",
      "iter18 cost:0.646931\n",
      "iter19 cost:0.646926\n",
      "iter20 cost:0.646921\n",
      "train error = 0.617777777778\n",
      "test error = 0.548888888889\n",
      "\n",
      "iter21 cost:0.646916\n",
      "iter22 cost:0.646911\n",
      "iter23 cost:0.646906\n",
      "iter24 cost:0.646901\n",
      "iter25 cost:0.646896\n",
      "iter26 cost:0.646891\n",
      "iter27 cost:0.646886\n",
      "iter28 cost:0.646881\n",
      "iter29 cost:0.646876\n",
      "iter30 cost:0.646871\n",
      "train error = 0.617777777778\n",
      "test error = 0.546666666667\n",
      "\n",
      "iter31 cost:0.646866\n",
      "iter32 cost:0.646861\n",
      "iter33 cost:0.646856\n",
      "iter34 cost:0.646852\n",
      "iter35 cost:0.646847\n",
      "iter36 cost:0.646842\n",
      "iter37 cost:0.646837\n",
      "iter38 cost:0.646832\n",
      "iter39 cost:0.646827\n",
      "iter40 cost:0.646822\n",
      "train error = 0.615555555556\n",
      "test error = 0.548888888889\n",
      "\n",
      "iter41 cost:0.646818\n",
      "iter42 cost:0.646813\n",
      "iter43 cost:0.646808\n",
      "iter44 cost:0.646803\n",
      "iter45 cost:0.646798\n",
      "iter46 cost:0.646794\n",
      "iter47 cost:0.646789\n",
      "iter48 cost:0.646784\n",
      "iter49 cost:0.646779\n",
      "iter50 cost:0.646774\n",
      "train error = 0.617777777778\n",
      "test error = 0.546666666667\n",
      "\n",
      "iter51 cost:0.64677\n",
      "iter52 cost:0.646765\n",
      "iter53 cost:0.64676\n",
      "iter54 cost:0.646755\n"
     ]
    },
    {
     "ename": "KeyboardInterrupt",
     "evalue": "",
     "output_type": "error",
     "traceback": [
      "\u001b[1;31m---------------------------------------------------------------------------\u001b[0m",
      "\u001b[1;31mKeyboardInterrupt\u001b[0m                         Traceback (most recent call last)",
      "\u001b[1;32m<ipython-input-20-cd2b805fa3ff>\u001b[0m in \u001b[0;36m<module>\u001b[1;34m()\u001b[0m\n\u001b[0;32m      1\u001b[0m \u001b[0mn_iter\u001b[0m \u001b[1;33m=\u001b[0m \u001b[1;36m0\u001b[0m\u001b[1;33m\u001b[0m\u001b[0m\n\u001b[0;32m      2\u001b[0m \u001b[1;32mwhile\u001b[0m \u001b[0mTrue\u001b[0m\u001b[1;33m:\u001b[0m\u001b[1;33m\u001b[0m\u001b[0m\n\u001b[1;32m----> 3\u001b[1;33m     \u001b[0m_\u001b[0m\u001b[1;33m,\u001b[0m\u001b[0mcost_\u001b[0m \u001b[1;33m=\u001b[0m \u001b[0msess\u001b[0m\u001b[1;33m.\u001b[0m\u001b[0mrun\u001b[0m\u001b[1;33m(\u001b[0m\u001b[1;33m[\u001b[0m\u001b[0moptimizer\u001b[0m\u001b[1;33m,\u001b[0m\u001b[0mcost\u001b[0m\u001b[1;33m]\u001b[0m\u001b[1;33m,\u001b[0m\u001b[0mfeed_dict\u001b[0m\u001b[1;33m=\u001b[0m\u001b[1;33m{\u001b[0m\u001b[0mx\u001b[0m\u001b[1;33m:\u001b[0m\u001b[0mtrain_x\u001b[0m\u001b[1;33m,\u001b[0m\u001b[0mlabels\u001b[0m\u001b[1;33m:\u001b[0m\u001b[0mtrain_t\u001b[0m\u001b[1;33m,\u001b[0m\u001b[0mlearning_rate\u001b[0m\u001b[1;33m:\u001b[0m\u001b[1;36m0.01\u001b[0m\u001b[1;33m}\u001b[0m\u001b[1;33m)\u001b[0m\u001b[1;33m\u001b[0m\u001b[0m\n\u001b[0m\u001b[0;32m      4\u001b[0m     \u001b[1;32mprint\u001b[0m\u001b[1;33m(\u001b[0m\u001b[1;34m'iter'\u001b[0m\u001b[1;33m+\u001b[0m\u001b[0mstr\u001b[0m\u001b[1;33m(\u001b[0m\u001b[0mn_iter\u001b[0m\u001b[1;33m)\u001b[0m\u001b[1;33m+\u001b[0m\u001b[1;34m' cost:'\u001b[0m\u001b[1;33m+\u001b[0m\u001b[0mstr\u001b[0m\u001b[1;33m(\u001b[0m\u001b[0mcost_\u001b[0m\u001b[1;33m)\u001b[0m\u001b[1;33m)\u001b[0m\u001b[1;33m\u001b[0m\u001b[0m\n\u001b[0;32m      5\u001b[0m     \u001b[1;32mif\u001b[0m \u001b[0mn_iter\u001b[0m \u001b[1;33m%\u001b[0m \u001b[1;36m10\u001b[0m \u001b[1;33m==\u001b[0m \u001b[1;36m0\u001b[0m\u001b[1;33m:\u001b[0m\u001b[1;33m\u001b[0m\u001b[0m\n",
      "\u001b[1;32m/usr/local/lib/python2.7/dist-packages/tensorflow/python/client/session.pyc\u001b[0m in \u001b[0;36mrun\u001b[1;34m(self, fetches, feed_dict, options, run_metadata)\u001b[0m\n\u001b[0;32m    380\u001b[0m     \u001b[1;32mtry\u001b[0m\u001b[1;33m:\u001b[0m\u001b[1;33m\u001b[0m\u001b[0m\n\u001b[0;32m    381\u001b[0m       result = self._run(None, fetches, feed_dict, options_ptr,\n\u001b[1;32m--> 382\u001b[1;33m                          run_metadata_ptr)\n\u001b[0m\u001b[0;32m    383\u001b[0m       \u001b[1;32mif\u001b[0m \u001b[0mrun_metadata\u001b[0m\u001b[1;33m:\u001b[0m\u001b[1;33m\u001b[0m\u001b[0m\n\u001b[0;32m    384\u001b[0m         \u001b[0mproto_data\u001b[0m \u001b[1;33m=\u001b[0m \u001b[0mtf_session\u001b[0m\u001b[1;33m.\u001b[0m\u001b[0mTF_GetBuffer\u001b[0m\u001b[1;33m(\u001b[0m\u001b[0mrun_metadata_ptr\u001b[0m\u001b[1;33m)\u001b[0m\u001b[1;33m\u001b[0m\u001b[0m\n",
      "\u001b[1;32m/usr/local/lib/python2.7/dist-packages/tensorflow/python/client/session.pyc\u001b[0m in \u001b[0;36m_run\u001b[1;34m(self, handle, fetches, feed_dict, options, run_metadata)\u001b[0m\n\u001b[0;32m    653\u001b[0m     \u001b[0mmovers\u001b[0m \u001b[1;33m=\u001b[0m \u001b[0mself\u001b[0m\u001b[1;33m.\u001b[0m\u001b[0m_update_with_movers\u001b[0m\u001b[1;33m(\u001b[0m\u001b[0mfeed_dict_string\u001b[0m\u001b[1;33m,\u001b[0m \u001b[0mfeed_map\u001b[0m\u001b[1;33m)\u001b[0m\u001b[1;33m\u001b[0m\u001b[0m\n\u001b[0;32m    654\u001b[0m     results = self._do_run(handle, target_list, unique_fetches,\n\u001b[1;32m--> 655\u001b[1;33m                            feed_dict_string, options, run_metadata)\n\u001b[0m\u001b[0;32m    656\u001b[0m \u001b[1;33m\u001b[0m\u001b[0m\n\u001b[0;32m    657\u001b[0m     \u001b[1;31m# User may have fetched the same tensor multiple times, but we\u001b[0m\u001b[1;33m\u001b[0m\u001b[1;33m\u001b[0m\u001b[0m\n",
      "\u001b[1;32m/usr/local/lib/python2.7/dist-packages/tensorflow/python/client/session.pyc\u001b[0m in \u001b[0;36m_do_run\u001b[1;34m(self, handle, target_list, fetch_list, feed_dict, options, run_metadata)\u001b[0m\n\u001b[0;32m    721\u001b[0m     \u001b[1;32mif\u001b[0m \u001b[0mhandle\u001b[0m \u001b[1;32mis\u001b[0m \u001b[0mNone\u001b[0m\u001b[1;33m:\u001b[0m\u001b[1;33m\u001b[0m\u001b[0m\n\u001b[0;32m    722\u001b[0m       return self._do_call(_run_fn, self._session, feed_dict, fetch_list,\n\u001b[1;32m--> 723\u001b[1;33m                            target_list, options, run_metadata)\n\u001b[0m\u001b[0;32m    724\u001b[0m     \u001b[1;32melse\u001b[0m\u001b[1;33m:\u001b[0m\u001b[1;33m\u001b[0m\u001b[0m\n\u001b[0;32m    725\u001b[0m       return self._do_call(_prun_fn, self._session, handle, feed_dict,\n",
      "\u001b[1;32m/usr/local/lib/python2.7/dist-packages/tensorflow/python/client/session.pyc\u001b[0m in \u001b[0;36m_do_call\u001b[1;34m(self, fn, *args)\u001b[0m\n\u001b[0;32m    728\u001b[0m   \u001b[1;32mdef\u001b[0m \u001b[0m_do_call\u001b[0m\u001b[1;33m(\u001b[0m\u001b[0mself\u001b[0m\u001b[1;33m,\u001b[0m \u001b[0mfn\u001b[0m\u001b[1;33m,\u001b[0m \u001b[1;33m*\u001b[0m\u001b[0margs\u001b[0m\u001b[1;33m)\u001b[0m\u001b[1;33m:\u001b[0m\u001b[1;33m\u001b[0m\u001b[0m\n\u001b[0;32m    729\u001b[0m     \u001b[1;32mtry\u001b[0m\u001b[1;33m:\u001b[0m\u001b[1;33m\u001b[0m\u001b[0m\n\u001b[1;32m--> 730\u001b[1;33m       \u001b[1;32mreturn\u001b[0m \u001b[0mfn\u001b[0m\u001b[1;33m(\u001b[0m\u001b[1;33m*\u001b[0m\u001b[0margs\u001b[0m\u001b[1;33m)\u001b[0m\u001b[1;33m\u001b[0m\u001b[0m\n\u001b[0m\u001b[0;32m    731\u001b[0m     \u001b[1;32mexcept\u001b[0m \u001b[0merrors\u001b[0m\u001b[1;33m.\u001b[0m\u001b[0mOpError\u001b[0m \u001b[1;32mas\u001b[0m \u001b[0me\u001b[0m\u001b[1;33m:\u001b[0m\u001b[1;33m\u001b[0m\u001b[0m\n\u001b[0;32m    732\u001b[0m       \u001b[0mmessage\u001b[0m \u001b[1;33m=\u001b[0m \u001b[0mcompat\u001b[0m\u001b[1;33m.\u001b[0m\u001b[0mas_text\u001b[0m\u001b[1;33m(\u001b[0m\u001b[0me\u001b[0m\u001b[1;33m.\u001b[0m\u001b[0mmessage\u001b[0m\u001b[1;33m)\u001b[0m\u001b[1;33m\u001b[0m\u001b[0m\n",
      "\u001b[1;32m/usr/local/lib/python2.7/dist-packages/tensorflow/python/client/session.pyc\u001b[0m in \u001b[0;36m_run_fn\u001b[1;34m(session, feed_dict, fetch_list, target_list, options, run_metadata)\u001b[0m\n\u001b[0;32m    710\u001b[0m         return tf_session.TF_Run(session, options,\n\u001b[0;32m    711\u001b[0m                                  \u001b[0mfeed_dict\u001b[0m\u001b[1;33m,\u001b[0m \u001b[0mfetch_list\u001b[0m\u001b[1;33m,\u001b[0m \u001b[0mtarget_list\u001b[0m\u001b[1;33m,\u001b[0m\u001b[1;33m\u001b[0m\u001b[0m\n\u001b[1;32m--> 712\u001b[1;33m                                  status, run_metadata)\n\u001b[0m\u001b[0;32m    713\u001b[0m \u001b[1;33m\u001b[0m\u001b[0m\n\u001b[0;32m    714\u001b[0m     \u001b[1;32mdef\u001b[0m \u001b[0m_prun_fn\u001b[0m\u001b[1;33m(\u001b[0m\u001b[0msession\u001b[0m\u001b[1;33m,\u001b[0m \u001b[0mhandle\u001b[0m\u001b[1;33m,\u001b[0m \u001b[0mfeed_dict\u001b[0m\u001b[1;33m,\u001b[0m \u001b[0mfetch_list\u001b[0m\u001b[1;33m)\u001b[0m\u001b[1;33m:\u001b[0m\u001b[1;33m\u001b[0m\u001b[0m\n",
      "\u001b[1;31mKeyboardInterrupt\u001b[0m: "
     ]
    }
   ],
   "source": [
    "n_iter = 0\n",
    "while True:\n",
    "    _,cost_ = sess.run([optimizer,cost],feed_dict={x:train_x,labels:train_t,learning_rate:0.01})\n",
    "    print('iter'+str(n_iter)+' cost:'+str(cost_))\n",
    "    if n_iter % 10 == 0:\n",
    "        y_train = sess.run(y,feed_dict={x:train_x})\n",
    "        print 'train error = ' + str((sum(np.argmax(y_train,axis=1) == train_t) + 0.0)/(n_train*num_classes))\n",
    "        y_test = sess.run(y,feed_dict={x:test_x})\n",
    "        print 'test error = ' + str((sum(np.argmax(y_test,axis=1) == test_t) + 0.0)/(n_test*num_classes))+'\\n'\n",
    "#     if n_iter % 100 == 0:\n",
    "#         mypath = 'vars/iter'+str(n_iter)\n",
    "#         if not os.path.isdir(mypath):\n",
    "#            os.makedirs(mypath)\n",
    "#         myfile = mypath+'/'+str(n_iter)\n",
    "#         saver.save(sess,myfile,write_meta_graph=False)\n",
    "    n_iter += 1"
   ]
  },
  {
   "cell_type": "code",
   "execution_count": 9,
   "metadata": {
    "collapsed": false
   },
   "outputs": [],
   "source": [
    "sess.close()"
   ]
  },
  {
   "cell_type": "code",
   "execution_count": null,
   "metadata": {
    "collapsed": true
   },
   "outputs": [],
   "source": []
  }
 ],
 "metadata": {
  "kernelspec": {
   "display_name": "Python 2",
   "language": "python",
   "name": "python2"
  },
  "language_info": {
   "codemirror_mode": {
    "name": "ipython",
    "version": 2
   },
   "file_extension": ".py",
   "mimetype": "text/x-python",
   "name": "python",
   "nbconvert_exporter": "python",
   "pygments_lexer": "ipython2",
   "version": "2.7.6"
  }
 },
 "nbformat": 4,
 "nbformat_minor": 0
}
